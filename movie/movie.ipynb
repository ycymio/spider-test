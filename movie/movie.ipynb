{
 "cells": [
  {
   "cell_type": "markdown",
   "metadata": {},
   "source": [
    "# 豆瓣美剧\n",
    "\n",
    "## 只根据Tag界面筛选\n",
    "\n",
    "### Improvement\n",
    "\n",
    "1. 登录与非登录状态，豆瓣美剧内容显示不相同，所以该方法会有很多重复信息\n",
    "   -> python 去重 还是 存入数据库 再去重 (毕竟信息不多)\n",
    "   -> Spider中 Cookies 如何保存\n",
    "2. Scrapy框架等的运用\n",
    "   \n",
    "### Progress\n",
    "Oct. 7:<br/>\n",
    "提取了title并插入数据库，可用。然而...爬取太快然后403 Forbidden，估计封了IP -> 不设间隔时间的爬虫都是耍流氓...<br/> "
   ]
  },
  {
   "cell_type": "code",
   "execution_count": 74,
   "metadata": {
    "collapsed": true
   },
   "outputs": [],
   "source": [
    "import re\n",
    "\n",
    "class Tools:\n",
    "    # 去除空格\n",
    "    removeBlock = re.compile('\\n+')\n",
    "    def replace(self, x):\n",
    "        x = re.sub(removeBlock, \"\", x)\n",
    "        return x.strip()"
   ]
  },
  {
   "cell_type": "code",
   "execution_count": 1,
   "metadata": {
    "collapsed": true
   },
   "outputs": [],
   "source": [
    "import urllib\n",
    "import urllib2\n",
    "import requests\n",
    "import re\n",
    "from lxml import etree\n",
    "import time\n",
    "import MySQLdb"
   ]
  },
  {
   "cell_type": "code",
   "execution_count": 2,
   "metadata": {
    "collapsed": true
   },
   "outputs": [],
   "source": [
    "def GetPageNum(page):\n",
    "    dom = etree.HTML(page)\n",
    "    num = dom.xpath('//div[@class=\"paginator\"]/a[last()]/text()')\n",
    "    if len(num) > 0:\n",
    "        return int(num[0])\n",
    "    else:\n",
    "        return 0"
   ]
  },
  {
   "cell_type": "code",
   "execution_count": 3,
   "metadata": {
    "collapsed": false
   },
   "outputs": [],
   "source": [
    "def replace(x):\n",
    "    removeBlock = re.compile('\\n|\\n+| {1,}|<br>|&nbsp;|', re.S)\n",
    "    removeBackSlash = re.compile('\\/')\n",
    "    x = re.sub(removeBackSlash, \"\", x)\n",
    "    x = re.sub(removeBlock, \"\", x)\n",
    "    return x.strip()"
   ]
  },
  {
   "cell_type": "code",
   "execution_count": 4,
   "metadata": {
    "collapsed": false
   },
   "outputs": [],
   "source": [
    "def GetContent(page, rank, people):\n",
    "    dom = etree.HTML(page)\n",
    "    titles = dom.xpath('//div[@class=\"pl2\"]/a/text()')\n",
    "#     print allContent\n",
    "    results = []\n",
    "#     print page\n",
    "    for title in titles:\n",
    "        result = replace(title)\n",
    "#         print result\n",
    "        if isinstance(result, unicode) == True:\n",
    "            tmp_list = []\n",
    "            tmp_list.append(result)\n",
    "#             print tmp_list\n",
    "            results.append(tmp_list)\n",
    "    return results\n",
    "#     print results\n",
    "#         print \n",
    "        \n",
    "#     //message[@id=0]//books/*[local-name()='book']"
   ]
  },
  {
   "cell_type": "code",
   "execution_count": 15,
   "metadata": {
    "collapsed": false
   },
   "outputs": [],
   "source": [
    "def WriteData(content):\n",
    "    conn = MySQLdb.connect(host=\"localhost\", user=\"ycy\", passwd=\"lyc1222\", db=\"spider\", charset=\"utf8\")\n",
    "    cursor = conn.cursor()\n",
    "    \n",
    "#     # 删除表\n",
    "#     sql = \"drop table if exists movie\"\n",
    "#     cursor.execute(sql)\n",
    "    \n",
    "    # 创建表\n",
    "    sql = \"\"\"create table if not exists movie\n",
    "       (id int(10) auto_increment primary key, name varchar(1000), rank float, people int(10))\n",
    "       DEFAULT CHARSET=utf8\"\"\"\n",
    "    cursor.execute(sql)\n",
    "    \n",
    "#     # 测试用\n",
    "#     sql = 'insert into movie(name) values(\"测试\")'\n",
    "#     n = cursor.execute(sql)\n",
    "    \n",
    "    # 写入多行\n",
    "    sql = \"insert into movie(name) values(%s)\"\n",
    "    n = cursor.executemany(sql, content)\n",
    "    print 'insertmany', n\n",
    "    \n",
    "    cursor.close()\n",
    "    conn.commit()\n",
    "    conn.close()"
   ]
  },
  {
   "cell_type": "code",
   "execution_count": 13,
   "metadata": {
    "collapsed": false
   },
   "outputs": [],
   "source": [
    "def Spider(url, rank, people):\n",
    "    i = 0\n",
    "    print \"Updating... \" \n",
    "    myPage = requests.get(url).content.decode(\"utf-8\")\n",
    "#     print myPage\n",
    "    pageNum = GetPageNum(myPage)\n",
    "    content = []\n",
    "    print pageNum\n",
    "    \n",
    "    for i in range(pageNum):\n",
    "        time.sleep(60)\n",
    "        search_url = url + u\"?start=\" + str(len(content)).decode(\"utf-8\") + \"&type=T\"\n",
    "#         search_url = url + u\"?start=\" + str(20).decode(\"utf-8\") + \"&type=T\"\n",
    "        print search_url\n",
    "#         user_agent = 'Mozilla/4.0 (compatible; MSIE 5.5; Windows NT)'\n",
    "#         headers = {'User-Agent': user_agent}\n",
    "#         request = urllib2.Request(search_url, headers) \n",
    "#         response = urllib2.urlopen(request)\n",
    "#         myPage = response.read().decode(\"utf-8\")\n",
    "        myPage = requests.get(search_url).content.decode(\"utf-8\")\n",
    "        tmp_content = GetContent(myPage, rank, people)\n",
    "        WriteData(tmp_content)\n",
    "        content.extend(tmp_content)\n",
    "#     print content\n",
    "        print str(len(content)) + u\"---------------------------------------------------------\"\n",
    "        \n",
    "#     print type(content[1])\n",
    "#     WriteData(content)\n",
    "#     print len(content)\n",
    "#     print pageNum\n",
    "#     print type(pageNum)\n",
    "#     //message[@id=0]//books/*[local-name()='book']"
   ]
  },
  {
   "cell_type": "code",
   "execution_count": 16,
   "metadata": {
    "collapsed": false
   },
   "outputs": [
    {
     "name": "stdout",
     "output_type": "stream",
     "text": [
      "start\n",
      "Updating... \n",
      "146\n",
      "https://movie.douban.com/tag/%E7%BE%8E%E5%89%A7?start=0&type=T\n",
      "insertmany 20\n",
      "20---------------------------------------------------------\n",
      "https://movie.douban.com/tag/%E7%BE%8E%E5%89%A7?start=20&type=T\n"
     ]
    },
    {
     "name": "stderr",
     "output_type": "stream",
     "text": [
      "/Users/ycymio/Documents/Python/venv/lib/python2.7/site-packages/ipykernel/__main__.py:13: Warning: Table 'movie' already exists\n"
     ]
    },
    {
     "name": "stdout",
     "output_type": "stream",
     "text": [
      "insertmany 19\n",
      "39---------------------------------------------------------\n",
      "https://movie.douban.com/tag/%E7%BE%8E%E5%89%A7?start=39&type=T\n",
      "insertmany 19\n",
      "58---------------------------------------------------------\n",
      "https://movie.douban.com/tag/%E7%BE%8E%E5%89%A7?start=58&type=T\n",
      "insertmany 20\n",
      "78---------------------------------------------------------\n",
      "https://movie.douban.com/tag/%E7%BE%8E%E5%89%A7?start=78&type=T\n",
      "insertmany 16\n",
      "94---------------------------------------------------------\n",
      "https://movie.douban.com/tag/%E7%BE%8E%E5%89%A7?start=94&type=T\n",
      "insertmany 17\n",
      "111---------------------------------------------------------\n",
      "https://movie.douban.com/tag/%E7%BE%8E%E5%89%A7?start=111&type=T\n",
      "insertmany 19\n",
      "130---------------------------------------------------------\n",
      "https://movie.douban.com/tag/%E7%BE%8E%E5%89%A7?start=130&type=T\n",
      "insertmany 20\n",
      "150---------------------------------------------------------\n",
      "https://movie.douban.com/tag/%E7%BE%8E%E5%89%A7?start=150&type=T\n",
      "insertmany 20\n",
      "170---------------------------------------------------------\n"
     ]
    },
    {
     "ename": "KeyboardInterrupt",
     "evalue": "",
     "output_type": "error",
     "traceback": [
      "\u001b[0;31m---------------------------------------------------------------------------\u001b[0m",
      "\u001b[0;31mKeyboardInterrupt\u001b[0m                         Traceback (most recent call last)",
      "\u001b[0;32m<ipython-input-16-318f6fdb810f>\u001b[0m in \u001b[0;36m<module>\u001b[0;34m()\u001b[0m\n\u001b[1;32m      6\u001b[0m     \u001b[0mrank\u001b[0m \u001b[0;34m=\u001b[0m \u001b[0;36m8\u001b[0m\u001b[0;34m\u001b[0m\u001b[0m\n\u001b[1;32m      7\u001b[0m     \u001b[0mpeople\u001b[0m \u001b[0;34m=\u001b[0m \u001b[0;36m10000\u001b[0m\u001b[0;34m\u001b[0m\u001b[0m\n\u001b[0;32m----> 8\u001b[0;31m     \u001b[0mSpider\u001b[0m\u001b[0;34m(\u001b[0m\u001b[0mstart_url\u001b[0m\u001b[0;34m,\u001b[0m \u001b[0mrank\u001b[0m\u001b[0;34m,\u001b[0m \u001b[0mpeople\u001b[0m\u001b[0;34m)\u001b[0m\u001b[0;34m\u001b[0m\u001b[0m\n\u001b[0m\u001b[1;32m      9\u001b[0m     \u001b[0;32mprint\u001b[0m \u001b[0;34m\"end\"\u001b[0m\u001b[0;34m\u001b[0m\u001b[0m\n",
      "\u001b[0;32m<ipython-input-13-a3e279b704a9>\u001b[0m in \u001b[0;36mSpider\u001b[0;34m(url, rank, people)\u001b[0m\n\u001b[1;32m      9\u001b[0m \u001b[0;34m\u001b[0m\u001b[0m\n\u001b[1;32m     10\u001b[0m     \u001b[0;32mfor\u001b[0m \u001b[0mi\u001b[0m \u001b[0;32min\u001b[0m \u001b[0mrange\u001b[0m\u001b[0;34m(\u001b[0m\u001b[0mpageNum\u001b[0m\u001b[0;34m)\u001b[0m\u001b[0;34m:\u001b[0m\u001b[0;34m\u001b[0m\u001b[0m\n\u001b[0;32m---> 11\u001b[0;31m         \u001b[0mtime\u001b[0m\u001b[0;34m.\u001b[0m\u001b[0msleep\u001b[0m\u001b[0;34m(\u001b[0m\u001b[0;36m60\u001b[0m\u001b[0;34m)\u001b[0m\u001b[0;34m\u001b[0m\u001b[0m\n\u001b[0m\u001b[1;32m     12\u001b[0m         \u001b[0msearch_url\u001b[0m \u001b[0;34m=\u001b[0m \u001b[0murl\u001b[0m \u001b[0;34m+\u001b[0m \u001b[0;34mu\"?start=\"\u001b[0m \u001b[0;34m+\u001b[0m \u001b[0mstr\u001b[0m\u001b[0;34m(\u001b[0m\u001b[0mlen\u001b[0m\u001b[0;34m(\u001b[0m\u001b[0mcontent\u001b[0m\u001b[0;34m)\u001b[0m\u001b[0;34m)\u001b[0m\u001b[0;34m.\u001b[0m\u001b[0mdecode\u001b[0m\u001b[0;34m(\u001b[0m\u001b[0;34m\"utf-8\"\u001b[0m\u001b[0;34m)\u001b[0m \u001b[0;34m+\u001b[0m \u001b[0;34m\"&type=T\"\u001b[0m\u001b[0;34m\u001b[0m\u001b[0m\n\u001b[1;32m     13\u001b[0m \u001b[0;31m#         search_url = url + u\"?start=\" + str(20).decode(\"utf-8\") + \"&type=T\"\u001b[0m\u001b[0;34m\u001b[0m\u001b[0;34m\u001b[0m\u001b[0m\n",
      "\u001b[0;31mKeyboardInterrupt\u001b[0m: "
     ]
    }
   ],
   "source": [
    "if __name__ == '__main__':\n",
    "    print \"start\"\n",
    "    start_url = \"https://movie.douban.com/tag/%E7%BE%8E%E5%89%A7\"\n",
    "#     rank = raw_input(\"请输入最低评分限制：\\n\")\n",
    "#     people = raw_input(\"请输入最低评分人数：\\n\")\n",
    "    rank = 8\n",
    "    people = 10000\n",
    "    Spider(start_url, rank, people)\n",
    "    print \"end\""
   ]
  }
 ],
 "metadata": {
  "kernelspec": {
   "display_name": "Python 2",
   "language": "python",
   "name": "python2"
  },
  "language_info": {
   "codemirror_mode": {
    "name": "ipython",
    "version": 2
   },
   "file_extension": ".py",
   "mimetype": "text/x-python",
   "name": "python",
   "nbconvert_exporter": "python",
   "pygments_lexer": "ipython2",
   "version": "2.7.10"
  }
 },
 "nbformat": 4,
 "nbformat_minor": 0
}
